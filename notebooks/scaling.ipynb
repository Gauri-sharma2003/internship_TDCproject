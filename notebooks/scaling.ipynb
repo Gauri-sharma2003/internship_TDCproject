{
 "cells": [
  {
   "cell_type": "code",
   "execution_count": 4,
   "metadata": {},
   "outputs": [],
   "source": [
    "import os\n",
    "import pandas as pd\n",
    "pd.set_option('display.max_columns', None)"
   ]
  },
  {
   "cell_type": "code",
   "execution_count": 5,
   "metadata": {},
   "outputs": [],
   "source": [
    "# Get the current working directory\n",
    "current_dir = os.getcwd()\n",
    "\n",
    "# Navigate one folder back\n",
    "parent_dir = os.path.dirname(current_dir)\n",
    "\n",
    "# Change the current directory to the data folder\n",
    "os.chdir(parent_dir)"
   ]
  },
  {
   "cell_type": "code",
   "execution_count": 6,
   "metadata": {},
   "outputs": [],
   "source": [
    "from src import utils as hf"
   ]
  },
  {
   "cell_type": "code",
   "execution_count": 7,
   "metadata": {},
   "outputs": [],
   "source": [
    "data_ro = pd.read_excel(\"data/data_ro.xlsx\")"
   ]
  },
  {
   "cell_type": "code",
   "execution_count": 8,
   "metadata": {},
   "outputs": [],
   "source": [
    "from sklearn.preprocessing import StandardScaler, LabelEncoder, MinMaxScaler"
   ]
  },
  {
   "cell_type": "code",
   "execution_count": 9,
   "metadata": {},
   "outputs": [],
   "source": [
    "scaler = MinMaxScaler()"
   ]
  },
  {
   "cell_type": "code",
   "execution_count": 12,
   "metadata": {},
   "outputs": [],
   "source": [
    "data_ro.drop(['Unnamed: 0','CR TDC','Application'],inplace=True,axis=1)"
   ]
  },
  {
   "cell_type": "code",
   "execution_count": 13,
   "metadata": {},
   "outputs": [
    {
     "data": {
      "text/html": [
       "<div>\n",
       "<style scoped>\n",
       "    .dataframe tbody tr th:only-of-type {\n",
       "        vertical-align: middle;\n",
       "    }\n",
       "\n",
       "    .dataframe tbody tr th {\n",
       "        vertical-align: top;\n",
       "    }\n",
       "\n",
       "    .dataframe thead th {\n",
       "        text-align: right;\n",
       "    }\n",
       "</style>\n",
       "<table border=\"1\" class=\"dataframe\">\n",
       "  <thead>\n",
       "    <tr style=\"text-align: right;\">\n",
       "      <th></th>\n",
       "      <th>THICKNESS</th>\n",
       "      <th>WIDTH</th>\n",
       "      <th>YS</th>\n",
       "      <th>UTS</th>\n",
       "      <th>EL</th>\n",
       "      <th>C</th>\n",
       "      <th>MN</th>\n",
       "      <th>S</th>\n",
       "      <th>P</th>\n",
       "      <th>SI</th>\n",
       "      <th>AL</th>\n",
       "      <th>N</th>\n",
       "      <th>TI</th>\n",
       "      <th>B</th>\n",
       "      <th>CR</th>\n",
       "      <th>V</th>\n",
       "      <th>NB</th>\n",
       "      <th>MO</th>\n",
       "    </tr>\n",
       "  </thead>\n",
       "  <tbody>\n",
       "    <tr>\n",
       "      <th>0</th>\n",
       "      <td>0.75</td>\n",
       "      <td>1705.0</td>\n",
       "      <td>121.047</td>\n",
       "      <td>272.520</td>\n",
       "      <td>53.835</td>\n",
       "      <td>0.001</td>\n",
       "      <td>0.130</td>\n",
       "      <td>0.008</td>\n",
       "      <td>0.013</td>\n",
       "      <td>0.005</td>\n",
       "      <td>0.036</td>\n",
       "      <td>0.0019</td>\n",
       "      <td>0.050</td>\n",
       "      <td>0.0001</td>\n",
       "      <td>0.015</td>\n",
       "      <td>0.001</td>\n",
       "      <td>0.001</td>\n",
       "      <td>0.001</td>\n",
       "    </tr>\n",
       "    <tr>\n",
       "      <th>1</th>\n",
       "      <td>1.50</td>\n",
       "      <td>1100.0</td>\n",
       "      <td>161.960</td>\n",
       "      <td>272.639</td>\n",
       "      <td>55.453</td>\n",
       "      <td>0.002</td>\n",
       "      <td>0.150</td>\n",
       "      <td>0.006</td>\n",
       "      <td>0.015</td>\n",
       "      <td>0.004</td>\n",
       "      <td>0.044</td>\n",
       "      <td>0.0029</td>\n",
       "      <td>0.032</td>\n",
       "      <td>0.0001</td>\n",
       "      <td>0.015</td>\n",
       "      <td>0.002</td>\n",
       "      <td>0.004</td>\n",
       "      <td>0.001</td>\n",
       "    </tr>\n",
       "    <tr>\n",
       "      <th>2</th>\n",
       "      <td>0.63</td>\n",
       "      <td>1220.0</td>\n",
       "      <td>130.582</td>\n",
       "      <td>272.698</td>\n",
       "      <td>53.549</td>\n",
       "      <td>0.002</td>\n",
       "      <td>0.120</td>\n",
       "      <td>0.008</td>\n",
       "      <td>0.007</td>\n",
       "      <td>0.005</td>\n",
       "      <td>0.050</td>\n",
       "      <td>0.0019</td>\n",
       "      <td>0.053</td>\n",
       "      <td>0.0001</td>\n",
       "      <td>0.017</td>\n",
       "      <td>0.002</td>\n",
       "      <td>0.002</td>\n",
       "      <td>0.001</td>\n",
       "    </tr>\n",
       "    <tr>\n",
       "      <th>3</th>\n",
       "      <td>0.75</td>\n",
       "      <td>1705.0</td>\n",
       "      <td>117.494</td>\n",
       "      <td>273.830</td>\n",
       "      <td>52.870</td>\n",
       "      <td>0.001</td>\n",
       "      <td>0.130</td>\n",
       "      <td>0.008</td>\n",
       "      <td>0.013</td>\n",
       "      <td>0.005</td>\n",
       "      <td>0.036</td>\n",
       "      <td>0.0019</td>\n",
       "      <td>0.050</td>\n",
       "      <td>0.0001</td>\n",
       "      <td>0.015</td>\n",
       "      <td>0.001</td>\n",
       "      <td>0.001</td>\n",
       "      <td>0.001</td>\n",
       "    </tr>\n",
       "    <tr>\n",
       "      <th>4</th>\n",
       "      <td>1.50</td>\n",
       "      <td>1260.0</td>\n",
       "      <td>161.423</td>\n",
       "      <td>276.118</td>\n",
       "      <td>47.102</td>\n",
       "      <td>0.003</td>\n",
       "      <td>0.174</td>\n",
       "      <td>0.005</td>\n",
       "      <td>0.005</td>\n",
       "      <td>0.001</td>\n",
       "      <td>0.048</td>\n",
       "      <td>0.0030</td>\n",
       "      <td>0.065</td>\n",
       "      <td>0.0000</td>\n",
       "      <td>0.023</td>\n",
       "      <td>0.003</td>\n",
       "      <td>0.001</td>\n",
       "      <td>0.001</td>\n",
       "    </tr>\n",
       "  </tbody>\n",
       "</table>\n",
       "</div>"
      ],
      "text/plain": [
       "   THICKNESS   WIDTH       YS      UTS      EL      C     MN      S      P  \\\n",
       "0       0.75  1705.0  121.047  272.520  53.835  0.001  0.130  0.008  0.013   \n",
       "1       1.50  1100.0  161.960  272.639  55.453  0.002  0.150  0.006  0.015   \n",
       "2       0.63  1220.0  130.582  272.698  53.549  0.002  0.120  0.008  0.007   \n",
       "3       0.75  1705.0  117.494  273.830  52.870  0.001  0.130  0.008  0.013   \n",
       "4       1.50  1260.0  161.423  276.118  47.102  0.003  0.174  0.005  0.005   \n",
       "\n",
       "      SI     AL       N     TI       B     CR      V     NB     MO  \n",
       "0  0.005  0.036  0.0019  0.050  0.0001  0.015  0.001  0.001  0.001  \n",
       "1  0.004  0.044  0.0029  0.032  0.0001  0.015  0.002  0.004  0.001  \n",
       "2  0.005  0.050  0.0019  0.053  0.0001  0.017  0.002  0.002  0.001  \n",
       "3  0.005  0.036  0.0019  0.050  0.0001  0.015  0.001  0.001  0.001  \n",
       "4  0.001  0.048  0.0030  0.065  0.0000  0.023  0.003  0.001  0.001  "
      ]
     },
     "execution_count": 13,
     "metadata": {},
     "output_type": "execute_result"
    }
   ],
   "source": [
    "data_ro.head()"
   ]
  },
  {
   "cell_type": "code",
   "execution_count": 14,
   "metadata": {},
   "outputs": [],
   "source": [
    "data_scale = scaler.fit_transform(data_ro)"
   ]
  },
  {
   "cell_type": "code",
   "execution_count": 15,
   "metadata": {},
   "outputs": [
    {
     "data": {
      "text/plain": [
       "array([[0.20512821, 0.81888247, 0.1055904 , ..., 0.0078125 , 0.01204819,\n",
       "        0.00571429],\n",
       "       [0.58974359, 0.23603083, 0.15664059, ..., 0.015625  , 0.04819277,\n",
       "        0.00571429],\n",
       "       [0.14358974, 0.35163776, 0.11748793, ..., 0.015625  , 0.02409639,\n",
       "        0.00571429],\n",
       "       ...,\n",
       "       [0.42564103, 0.95375723, 0.21716763, ..., 0.0078125 , 0.01204819,\n",
       "        0.00571429],\n",
       "       [0.42564103, 0.95375723, 0.22664946, ..., 0.0390625 , 0.01204819,\n",
       "        0.00571429],\n",
       "       [0.58974359, 0.3805395 , 0.22724216, ..., 0.0078125 , 0.01204819,\n",
       "        0.00571429]])"
      ]
     },
     "execution_count": 15,
     "metadata": {},
     "output_type": "execute_result"
    }
   ],
   "source": [
    "data_scale"
   ]
  },
  {
   "cell_type": "code",
   "execution_count": 16,
   "metadata": {},
   "outputs": [],
   "source": [
    "import pickle"
   ]
  },
  {
   "cell_type": "code",
   "execution_count": 17,
   "metadata": {},
   "outputs": [],
   "source": [
    "# Save the scaler and model\n",
    "with open(\"models/scaler.pkl\", \"wb\") as f:\n",
    "    pickle.dump(scaler, f)"
   ]
  },
  {
   "cell_type": "code",
   "execution_count": null,
   "metadata": {},
   "outputs": [],
   "source": []
  }
 ],
 "metadata": {
  "kernelspec": {
   "display_name": "env",
   "language": "python",
   "name": "python3"
  },
  "language_info": {
   "codemirror_mode": {
    "name": "ipython",
    "version": 3
   },
   "file_extension": ".py",
   "mimetype": "text/x-python",
   "name": "python",
   "nbconvert_exporter": "python",
   "pygments_lexer": "ipython3",
   "version": "3.10.9"
  }
 },
 "nbformat": 4,
 "nbformat_minor": 2
}
